{
  "cells": [
    {
      "cell_type": "markdown",
      "metadata": {
        "id": "H9wADwK78DCz"
      },
      "source": [
        "# Proyek Analisis Data: Bike Sharing Dataset\n",
        "- **Nama:** Lalu Habib Satya Wiguna\n",
        "- **Email:** satyawiguna102@gmail.com\n",
        "- **ID Dicoding:** habibsatya"
      ]
    },
    {
      "cell_type": "markdown",
      "metadata": {
        "id": "eE0raob58DC0"
      },
      "source": [
        "## Menentukan Pertanyaan Bisnis"
      ]
    },
    {
      "cell_type": "markdown",
      "metadata": {
        "id": "GmQeQ5YF8DC0"
      },
      "source": [
        "- Bagaimana pengaruh suhu terhadap jumlah penyewaan sepeda?\n",
        "- Apa perbedaan pola penyewaan sepeda berdasarkan hari kerja dan hari non-kerja?\n",
        "- Bagaimana pengaruh musim terhadap penyewaan sepeda?"
      ]
    },
    {
      "cell_type": "markdown",
      "metadata": {
        "id": "H-z4QGlO8DC1"
      },
      "source": [
        "## Import Semua Packages/Library yang Digunakan"
      ]
    },
    {
      "cell_type": "code",
      "execution_count": 1,
      "metadata": {
        "id": "FVYwaObI8DC1"
      },
      "outputs": [],
      "source": [
        "import pandas as pd\n",
        "import numpy as np\n",
        "import matplotlib.pyplot as plt\n",
        "import seaborn as sns\n",
        "import warnings\n",
        "from sklearn.preprocessing import MinMaxScaler\n",
        "\n",
        "warnings.filterwarnings('ignore')\n",
        "%matplotlib inline"
      ]
    },
    {
      "cell_type": "markdown",
      "metadata": {
        "id": "h_Sh51Xy8DC1"
      },
      "source": [
        "## Data Wrangling"
      ]
    },
    {
      "cell_type": "markdown",
      "metadata": {
        "id": "sXU2GBYu8DC1"
      },
      "source": [
        "### Gathering Data"
      ]
    },
    {
      "cell_type": "code",
      "execution_count": 2,
      "metadata": {
        "id": "zjCBk1BI8DC1"
      },
      "outputs": [
        {
          "data": {
            "text/html": [
              "<div>\n",
              "<style scoped>\n",
              "    .dataframe tbody tr th:only-of-type {\n",
              "        vertical-align: middle;\n",
              "    }\n",
              "\n",
              "    .dataframe tbody tr th {\n",
              "        vertical-align: top;\n",
              "    }\n",
              "\n",
              "    .dataframe thead th {\n",
              "        text-align: right;\n",
              "    }\n",
              "</style>\n",
              "<table border=\"1\" class=\"dataframe\">\n",
              "  <thead>\n",
              "    <tr style=\"text-align: right;\">\n",
              "      <th></th>\n",
              "      <th>instant</th>\n",
              "      <th>dteday</th>\n",
              "      <th>season</th>\n",
              "      <th>yr</th>\n",
              "      <th>mnth</th>\n",
              "      <th>holiday</th>\n",
              "      <th>weekday</th>\n",
              "      <th>workingday</th>\n",
              "      <th>weathersit</th>\n",
              "      <th>temp</th>\n",
              "      <th>atemp</th>\n",
              "      <th>hum</th>\n",
              "      <th>windspeed</th>\n",
              "      <th>casual</th>\n",
              "      <th>registered</th>\n",
              "      <th>cnt</th>\n",
              "    </tr>\n",
              "  </thead>\n",
              "  <tbody>\n",
              "    <tr>\n",
              "      <th>0</th>\n",
              "      <td>1</td>\n",
              "      <td>2011-01-01</td>\n",
              "      <td>1</td>\n",
              "      <td>0</td>\n",
              "      <td>1</td>\n",
              "      <td>0</td>\n",
              "      <td>6</td>\n",
              "      <td>0</td>\n",
              "      <td>2</td>\n",
              "      <td>0.344167</td>\n",
              "      <td>0.363625</td>\n",
              "      <td>0.805833</td>\n",
              "      <td>0.160446</td>\n",
              "      <td>331</td>\n",
              "      <td>654</td>\n",
              "      <td>985</td>\n",
              "    </tr>\n",
              "    <tr>\n",
              "      <th>1</th>\n",
              "      <td>2</td>\n",
              "      <td>2011-01-02</td>\n",
              "      <td>1</td>\n",
              "      <td>0</td>\n",
              "      <td>1</td>\n",
              "      <td>0</td>\n",
              "      <td>0</td>\n",
              "      <td>0</td>\n",
              "      <td>2</td>\n",
              "      <td>0.363478</td>\n",
              "      <td>0.353739</td>\n",
              "      <td>0.696087</td>\n",
              "      <td>0.248539</td>\n",
              "      <td>131</td>\n",
              "      <td>670</td>\n",
              "      <td>801</td>\n",
              "    </tr>\n",
              "    <tr>\n",
              "      <th>2</th>\n",
              "      <td>3</td>\n",
              "      <td>2011-01-03</td>\n",
              "      <td>1</td>\n",
              "      <td>0</td>\n",
              "      <td>1</td>\n",
              "      <td>0</td>\n",
              "      <td>1</td>\n",
              "      <td>1</td>\n",
              "      <td>1</td>\n",
              "      <td>0.196364</td>\n",
              "      <td>0.189405</td>\n",
              "      <td>0.437273</td>\n",
              "      <td>0.248309</td>\n",
              "      <td>120</td>\n",
              "      <td>1229</td>\n",
              "      <td>1349</td>\n",
              "    </tr>\n",
              "    <tr>\n",
              "      <th>3</th>\n",
              "      <td>4</td>\n",
              "      <td>2011-01-04</td>\n",
              "      <td>1</td>\n",
              "      <td>0</td>\n",
              "      <td>1</td>\n",
              "      <td>0</td>\n",
              "      <td>2</td>\n",
              "      <td>1</td>\n",
              "      <td>1</td>\n",
              "      <td>0.200000</td>\n",
              "      <td>0.212122</td>\n",
              "      <td>0.590435</td>\n",
              "      <td>0.160296</td>\n",
              "      <td>108</td>\n",
              "      <td>1454</td>\n",
              "      <td>1562</td>\n",
              "    </tr>\n",
              "    <tr>\n",
              "      <th>4</th>\n",
              "      <td>5</td>\n",
              "      <td>2011-01-05</td>\n",
              "      <td>1</td>\n",
              "      <td>0</td>\n",
              "      <td>1</td>\n",
              "      <td>0</td>\n",
              "      <td>3</td>\n",
              "      <td>1</td>\n",
              "      <td>1</td>\n",
              "      <td>0.226957</td>\n",
              "      <td>0.229270</td>\n",
              "      <td>0.436957</td>\n",
              "      <td>0.186900</td>\n",
              "      <td>82</td>\n",
              "      <td>1518</td>\n",
              "      <td>1600</td>\n",
              "    </tr>\n",
              "    <tr>\n",
              "      <th>...</th>\n",
              "      <td>...</td>\n",
              "      <td>...</td>\n",
              "      <td>...</td>\n",
              "      <td>...</td>\n",
              "      <td>...</td>\n",
              "      <td>...</td>\n",
              "      <td>...</td>\n",
              "      <td>...</td>\n",
              "      <td>...</td>\n",
              "      <td>...</td>\n",
              "      <td>...</td>\n",
              "      <td>...</td>\n",
              "      <td>...</td>\n",
              "      <td>...</td>\n",
              "      <td>...</td>\n",
              "      <td>...</td>\n",
              "    </tr>\n",
              "    <tr>\n",
              "      <th>726</th>\n",
              "      <td>727</td>\n",
              "      <td>2012-12-27</td>\n",
              "      <td>1</td>\n",
              "      <td>1</td>\n",
              "      <td>12</td>\n",
              "      <td>0</td>\n",
              "      <td>4</td>\n",
              "      <td>1</td>\n",
              "      <td>2</td>\n",
              "      <td>0.254167</td>\n",
              "      <td>0.226642</td>\n",
              "      <td>0.652917</td>\n",
              "      <td>0.350133</td>\n",
              "      <td>247</td>\n",
              "      <td>1867</td>\n",
              "      <td>2114</td>\n",
              "    </tr>\n",
              "    <tr>\n",
              "      <th>727</th>\n",
              "      <td>728</td>\n",
              "      <td>2012-12-28</td>\n",
              "      <td>1</td>\n",
              "      <td>1</td>\n",
              "      <td>12</td>\n",
              "      <td>0</td>\n",
              "      <td>5</td>\n",
              "      <td>1</td>\n",
              "      <td>2</td>\n",
              "      <td>0.253333</td>\n",
              "      <td>0.255046</td>\n",
              "      <td>0.590000</td>\n",
              "      <td>0.155471</td>\n",
              "      <td>644</td>\n",
              "      <td>2451</td>\n",
              "      <td>3095</td>\n",
              "    </tr>\n",
              "    <tr>\n",
              "      <th>728</th>\n",
              "      <td>729</td>\n",
              "      <td>2012-12-29</td>\n",
              "      <td>1</td>\n",
              "      <td>1</td>\n",
              "      <td>12</td>\n",
              "      <td>0</td>\n",
              "      <td>6</td>\n",
              "      <td>0</td>\n",
              "      <td>2</td>\n",
              "      <td>0.253333</td>\n",
              "      <td>0.242400</td>\n",
              "      <td>0.752917</td>\n",
              "      <td>0.124383</td>\n",
              "      <td>159</td>\n",
              "      <td>1182</td>\n",
              "      <td>1341</td>\n",
              "    </tr>\n",
              "    <tr>\n",
              "      <th>729</th>\n",
              "      <td>730</td>\n",
              "      <td>2012-12-30</td>\n",
              "      <td>1</td>\n",
              "      <td>1</td>\n",
              "      <td>12</td>\n",
              "      <td>0</td>\n",
              "      <td>0</td>\n",
              "      <td>0</td>\n",
              "      <td>1</td>\n",
              "      <td>0.255833</td>\n",
              "      <td>0.231700</td>\n",
              "      <td>0.483333</td>\n",
              "      <td>0.350754</td>\n",
              "      <td>364</td>\n",
              "      <td>1432</td>\n",
              "      <td>1796</td>\n",
              "    </tr>\n",
              "    <tr>\n",
              "      <th>730</th>\n",
              "      <td>731</td>\n",
              "      <td>2012-12-31</td>\n",
              "      <td>1</td>\n",
              "      <td>1</td>\n",
              "      <td>12</td>\n",
              "      <td>0</td>\n",
              "      <td>1</td>\n",
              "      <td>1</td>\n",
              "      <td>2</td>\n",
              "      <td>0.215833</td>\n",
              "      <td>0.223487</td>\n",
              "      <td>0.577500</td>\n",
              "      <td>0.154846</td>\n",
              "      <td>439</td>\n",
              "      <td>2290</td>\n",
              "      <td>2729</td>\n",
              "    </tr>\n",
              "  </tbody>\n",
              "</table>\n",
              "<p>731 rows × 16 columns</p>\n",
              "</div>"
            ],
            "text/plain": [
              "     instant   dteday       season   yr   mnth   holiday   weekday   \\\n",
              "0           1  2011-01-01         1    0      1         0         6   \n",
              "1           2  2011-01-02         1    0      1         0         0   \n",
              "2           3  2011-01-03         1    0      1         0         1   \n",
              "3           4  2011-01-04         1    0      1         0         2   \n",
              "4           5  2011-01-05         1    0      1         0         3   \n",
              "..        ...          ...      ...  ...    ...       ...       ...   \n",
              "726       727  2012-12-27         1    1     12         0         4   \n",
              "727       728  2012-12-28         1    1     12         0         5   \n",
              "728       729  2012-12-29         1    1     12         0         6   \n",
              "729       730  2012-12-30         1    1     12         0         0   \n",
              "730       731  2012-12-31         1    1     12         0         1   \n",
              "\n",
              "     workingday   weathersit   temp        atemp       hum        windspeed   \\\n",
              "0              0            2    0.344167    0.363625   0.805833    0.160446   \n",
              "1              0            2    0.363478    0.353739   0.696087    0.248539   \n",
              "2              1            1    0.196364    0.189405   0.437273    0.248309   \n",
              "3              1            1    0.200000    0.212122   0.590435    0.160296   \n",
              "4              1            1    0.226957    0.229270   0.436957    0.186900   \n",
              "..           ...          ...         ...         ...        ...         ...   \n",
              "726            1            2    0.254167    0.226642   0.652917    0.350133   \n",
              "727            1            2    0.253333    0.255046   0.590000    0.155471   \n",
              "728            0            2    0.253333    0.242400   0.752917    0.124383   \n",
              "729            0            1    0.255833    0.231700   0.483333    0.350754   \n",
              "730            1            2    0.215833    0.223487   0.577500    0.154846   \n",
              "\n",
              "     casual   registered    cnt  \n",
              "0        331          654   985  \n",
              "1        131          670   801  \n",
              "2        120         1229  1349  \n",
              "3        108         1454  1562  \n",
              "4         82         1518  1600  \n",
              "..       ...          ...   ...  \n",
              "726      247         1867  2114  \n",
              "727      644         2451  3095  \n",
              "728      159         1182  1341  \n",
              "729      364         1432  1796  \n",
              "730      439         2290  2729  \n",
              "\n",
              "[731 rows x 16 columns]"
            ]
          },
          "execution_count": 2,
          "metadata": {},
          "output_type": "execute_result"
        }
      ],
      "source": [
        "day_df = pd.read_csv(\"data/day.csv\")\n",
        "day_df"
      ]
    },
    {
      "cell_type": "markdown",
      "metadata": {
        "id": "MMi6xGaDkbCi"
      },
      "source": [
        "Dari output di atas, kita memiliki 731 data harian penyewa yang terdapat pada 16 kolom untuk dataset Bike Sharing (day). Berdasarkan informasi dari situs [kaggle](https://www.kaggle.com/datasets/lakshmi25npathi/bike-sharing-dataset), variabel-variabel pada dataset Bike Sharing sebagai berikut:\n",
        "- instant: nomor urut dari setiap kolom pada dataset\n",
        "- dteday: tanggal transaksi\n",
        "- season: musim (1: musim semi, 2: musim panas, 3: musim gugur, 4: musim dingin)\n",
        "- yr: tahun (0: 2011, 1: 2012)\n",
        "- mnth: bulan (1 sampai 12)\n",
        "- holiday: menunjukkan apakah hari tersebut merupakan hari libur (holiday) atau bukan\n",
        "- weekday: hari dalam seminggu, yang menunjukkan urutan hari (0 sampai 6)\n",
        "- workingday: jika hari bukan akhir pekan atau hari libur maka 1, sebaliknya adalah 0\n",
        "- weathersit: cuaca (1: cerah, 2: berkabut, 3: hujan ringan, 4: hujan lebat)\n",
        "- temp: suhu yang dinormalisasi ke dalam skala Celcius\n",
        "- atemp: suhu rasa (feeling temperature) yang dinormalisasi ke dalam skala celcius\n",
        "- hum: kelembapan yang dinormalisasi, diperoleh dengan membagi nilai kelembapan aktual dengan 100 (nilai maksimum)\n",
        "- windspeed: kecepatan angin yang dinormalisasi,  diperoleh dengan membagi nilai kecepatan angin aktual dengan 67 (nilai maksimum)\n",
        "- casual: jumlah pengguna kasual, yaitu pengguna yang menggunakan layanan penyewaan sepeda tanpa berlangganan atau tanpa memiliki keanggotaan resmi\n",
        "- registered: jumlah pengguna terdaftar, yaitu pengguna yang memiliki keanggotaan resmi (member) atau berlangganan layanan penyewaan sepeda\n",
        "- cnt: jumlah total penyewaan sepeda, mencakup gabungan antara pengguna kasual dan pengguna terdaftar"
      ]
    },
    {
      "cell_type": "markdown",
      "metadata": {
        "id": "FHSiqaZp8DC1"
      },
      "source": [
        "### Assessing Data"
      ]
    },
    {
      "cell_type": "code",
      "execution_count": 3,
      "metadata": {
        "id": "ax-3tEjc9Cj1"
      },
      "outputs": [
        {
          "name": "stdout",
          "output_type": "stream",
          "text": [
            "<class 'pandas.core.frame.DataFrame'>\n",
            "RangeIndex: 731 entries, 0 to 730\n",
            "Data columns (total 16 columns):\n",
            " #   Column       Non-Null Count  Dtype  \n",
            "---  ------       --------------  -----  \n",
            " 0   instant      731 non-null    int64  \n",
            " 1   dteday       731 non-null    object \n",
            " 2   season       731 non-null    int64  \n",
            " 3   yr           731 non-null    int64  \n",
            " 4   mnth         731 non-null    int64  \n",
            " 5   holiday      731 non-null    int64  \n",
            " 6   weekday      731 non-null    int64  \n",
            " 7   workingday   731 non-null    int64  \n",
            " 8   weathersit   731 non-null    int64  \n",
            " 9   temp         731 non-null    float64\n",
            " 10  atemp        731 non-null    float64\n",
            " 11  hum          731 non-null    float64\n",
            " 12  windspeed    731 non-null    float64\n",
            " 13  casual       731 non-null    int64  \n",
            " 14  registered   731 non-null    int64  \n",
            " 15  cnt          731 non-null    int64  \n",
            "dtypes: float64(4), int64(11), object(1)\n",
            "memory usage: 91.5+ KB\n"
          ]
        }
      ],
      "source": [
        "day_df.info()"
      ]
    },
    {
      "cell_type": "markdown",
      "metadata": {
        "id": "7dtxhAPrkhPL"
      },
      "source": [
        "Dari output di atas, dapat dilihat bahwa:\n",
        "- Terdapat 1 kolom dengan tipe object, yaitu: dteday  \n",
        "- Terdapat 11 kolom dengan tipe int64, yaitu: instant, season, yr, mnth, holiday, weekday, workingday, weathersit, casual, registered, cnt\n",
        "- Terdapat 4 kolom dengan tipe float64, yaitu: temp, atemp, hum, windspeed"
      ]
    },
    {
      "cell_type": "code",
      "execution_count": 4,
      "metadata": {},
      "outputs": [
        {
          "data": {
            "text/html": [
              "<div>\n",
              "<style scoped>\n",
              "    .dataframe tbody tr th:only-of-type {\n",
              "        vertical-align: middle;\n",
              "    }\n",
              "\n",
              "    .dataframe tbody tr th {\n",
              "        vertical-align: top;\n",
              "    }\n",
              "\n",
              "    .dataframe thead th {\n",
              "        text-align: right;\n",
              "    }\n",
              "</style>\n",
              "<table border=\"1\" class=\"dataframe\">\n",
              "  <thead>\n",
              "    <tr style=\"text-align: right;\">\n",
              "      <th></th>\n",
              "      <th>instant</th>\n",
              "      <th>season</th>\n",
              "      <th>yr</th>\n",
              "      <th>mnth</th>\n",
              "      <th>holiday</th>\n",
              "      <th>weekday</th>\n",
              "      <th>workingday</th>\n",
              "      <th>weathersit</th>\n",
              "      <th>temp</th>\n",
              "      <th>atemp</th>\n",
              "      <th>hum</th>\n",
              "      <th>windspeed</th>\n",
              "      <th>casual</th>\n",
              "      <th>registered</th>\n",
              "      <th>cnt</th>\n",
              "    </tr>\n",
              "  </thead>\n",
              "  <tbody>\n",
              "    <tr>\n",
              "      <th>count</th>\n",
              "      <td>731.000000</td>\n",
              "      <td>731.000000</td>\n",
              "      <td>731.000000</td>\n",
              "      <td>731.000000</td>\n",
              "      <td>731.000000</td>\n",
              "      <td>731.000000</td>\n",
              "      <td>731.000000</td>\n",
              "      <td>731.000000</td>\n",
              "      <td>731.000000</td>\n",
              "      <td>731.000000</td>\n",
              "      <td>731.000000</td>\n",
              "      <td>731.000000</td>\n",
              "      <td>731.000000</td>\n",
              "      <td>731.000000</td>\n",
              "      <td>731.000000</td>\n",
              "    </tr>\n",
              "    <tr>\n",
              "      <th>mean</th>\n",
              "      <td>366.000000</td>\n",
              "      <td>2.496580</td>\n",
              "      <td>0.500684</td>\n",
              "      <td>6.519836</td>\n",
              "      <td>0.028728</td>\n",
              "      <td>2.997264</td>\n",
              "      <td>0.683995</td>\n",
              "      <td>1.395349</td>\n",
              "      <td>0.495385</td>\n",
              "      <td>0.474354</td>\n",
              "      <td>0.627894</td>\n",
              "      <td>0.190486</td>\n",
              "      <td>848.176471</td>\n",
              "      <td>3656.172367</td>\n",
              "      <td>4504.348837</td>\n",
              "    </tr>\n",
              "    <tr>\n",
              "      <th>std</th>\n",
              "      <td>211.165812</td>\n",
              "      <td>1.110807</td>\n",
              "      <td>0.500342</td>\n",
              "      <td>3.451913</td>\n",
              "      <td>0.167155</td>\n",
              "      <td>2.004787</td>\n",
              "      <td>0.465233</td>\n",
              "      <td>0.544894</td>\n",
              "      <td>0.183051</td>\n",
              "      <td>0.162961</td>\n",
              "      <td>0.142429</td>\n",
              "      <td>0.077498</td>\n",
              "      <td>686.622488</td>\n",
              "      <td>1560.256377</td>\n",
              "      <td>1937.211452</td>\n",
              "    </tr>\n",
              "    <tr>\n",
              "      <th>min</th>\n",
              "      <td>1.000000</td>\n",
              "      <td>1.000000</td>\n",
              "      <td>0.000000</td>\n",
              "      <td>1.000000</td>\n",
              "      <td>0.000000</td>\n",
              "      <td>0.000000</td>\n",
              "      <td>0.000000</td>\n",
              "      <td>1.000000</td>\n",
              "      <td>0.059130</td>\n",
              "      <td>0.079070</td>\n",
              "      <td>0.000000</td>\n",
              "      <td>0.022392</td>\n",
              "      <td>2.000000</td>\n",
              "      <td>20.000000</td>\n",
              "      <td>22.000000</td>\n",
              "    </tr>\n",
              "    <tr>\n",
              "      <th>25%</th>\n",
              "      <td>183.500000</td>\n",
              "      <td>2.000000</td>\n",
              "      <td>0.000000</td>\n",
              "      <td>4.000000</td>\n",
              "      <td>0.000000</td>\n",
              "      <td>1.000000</td>\n",
              "      <td>0.000000</td>\n",
              "      <td>1.000000</td>\n",
              "      <td>0.337083</td>\n",
              "      <td>0.337842</td>\n",
              "      <td>0.520000</td>\n",
              "      <td>0.134950</td>\n",
              "      <td>315.500000</td>\n",
              "      <td>2497.000000</td>\n",
              "      <td>3152.000000</td>\n",
              "    </tr>\n",
              "    <tr>\n",
              "      <th>50%</th>\n",
              "      <td>366.000000</td>\n",
              "      <td>3.000000</td>\n",
              "      <td>1.000000</td>\n",
              "      <td>7.000000</td>\n",
              "      <td>0.000000</td>\n",
              "      <td>3.000000</td>\n",
              "      <td>1.000000</td>\n",
              "      <td>1.000000</td>\n",
              "      <td>0.498333</td>\n",
              "      <td>0.486733</td>\n",
              "      <td>0.626667</td>\n",
              "      <td>0.180975</td>\n",
              "      <td>713.000000</td>\n",
              "      <td>3662.000000</td>\n",
              "      <td>4548.000000</td>\n",
              "    </tr>\n",
              "    <tr>\n",
              "      <th>75%</th>\n",
              "      <td>548.500000</td>\n",
              "      <td>3.000000</td>\n",
              "      <td>1.000000</td>\n",
              "      <td>10.000000</td>\n",
              "      <td>0.000000</td>\n",
              "      <td>5.000000</td>\n",
              "      <td>1.000000</td>\n",
              "      <td>2.000000</td>\n",
              "      <td>0.655417</td>\n",
              "      <td>0.608602</td>\n",
              "      <td>0.730209</td>\n",
              "      <td>0.233214</td>\n",
              "      <td>1096.000000</td>\n",
              "      <td>4776.500000</td>\n",
              "      <td>5956.000000</td>\n",
              "    </tr>\n",
              "    <tr>\n",
              "      <th>max</th>\n",
              "      <td>731.000000</td>\n",
              "      <td>4.000000</td>\n",
              "      <td>1.000000</td>\n",
              "      <td>12.000000</td>\n",
              "      <td>1.000000</td>\n",
              "      <td>6.000000</td>\n",
              "      <td>1.000000</td>\n",
              "      <td>3.000000</td>\n",
              "      <td>0.861667</td>\n",
              "      <td>0.840896</td>\n",
              "      <td>0.972500</td>\n",
              "      <td>0.507463</td>\n",
              "      <td>3410.000000</td>\n",
              "      <td>6946.000000</td>\n",
              "      <td>8714.000000</td>\n",
              "    </tr>\n",
              "  </tbody>\n",
              "</table>\n",
              "</div>"
            ],
            "text/plain": [
              "         instant      season          yr        mnth     holiday     weekday   \\\n",
              "count  731.000000  731.000000  731.000000  731.000000  731.000000  731.000000   \n",
              "mean   366.000000    2.496580    0.500684    6.519836    0.028728    2.997264   \n",
              "std    211.165812    1.110807    0.500342    3.451913    0.167155    2.004787   \n",
              "min      1.000000    1.000000    0.000000    1.000000    0.000000    0.000000   \n",
              "25%    183.500000    2.000000    0.000000    4.000000    0.000000    1.000000   \n",
              "50%    366.000000    3.000000    1.000000    7.000000    0.000000    3.000000   \n",
              "75%    548.500000    3.000000    1.000000   10.000000    0.000000    5.000000   \n",
              "max    731.000000    4.000000    1.000000   12.000000    1.000000    6.000000   \n",
              "\n",
              "       workingday   weathersit   temp        atemp        hum        \\\n",
              "count   731.000000   731.000000  731.000000  731.000000  731.000000   \n",
              "mean      0.683995     1.395349    0.495385    0.474354    0.627894   \n",
              "std       0.465233     0.544894    0.183051    0.162961    0.142429   \n",
              "min       0.000000     1.000000    0.059130    0.079070    0.000000   \n",
              "25%       0.000000     1.000000    0.337083    0.337842    0.520000   \n",
              "50%       1.000000     1.000000    0.498333    0.486733    0.626667   \n",
              "75%       1.000000     2.000000    0.655417    0.608602    0.730209   \n",
              "max       1.000000     3.000000    0.861667    0.840896    0.972500   \n",
              "\n",
              "       windspeed       casual   registered           cnt  \n",
              "count  731.000000   731.000000   731.000000   731.000000  \n",
              "mean     0.190486   848.176471  3656.172367  4504.348837  \n",
              "std      0.077498   686.622488  1560.256377  1937.211452  \n",
              "min      0.022392     2.000000    20.000000    22.000000  \n",
              "25%      0.134950   315.500000  2497.000000  3152.000000  \n",
              "50%      0.180975   713.000000  3662.000000  4548.000000  \n",
              "75%      0.233214  1096.000000  4776.500000  5956.000000  \n",
              "max      0.507463  3410.000000  6946.000000  8714.000000  "
            ]
          },
          "execution_count": 4,
          "metadata": {},
          "output_type": "execute_result"
        }
      ],
      "source": [
        "day_df.describe()"
      ]
    },
    {
      "cell_type": "markdown",
      "metadata": {},
      "source": [
        "Fungsi describe() memberikan informasi statistik pada masing-masing kolom, antara lain:\n",
        "\n",
        "- Count adalah jumlah sampel pada data.\n",
        "- Mean adalah nilai rata-rata.\n",
        "- Std adalah standar deviasi.\n",
        "- Min yaitu nilai minimum setiap kolom.\n",
        "- 25% adalah kuartil pertama. Kuartil adalah nilai yang menandai batas interval - dalam empat bagian sebaran yang sama.\n",
        "- 50% adalah kuartil kedua, atau biasa juga disebut median (nilai tengah).\n",
        "- 75% adalah kuartil ketiga.\n",
        "- Max adalah nilai maksimum.\n",
        "\n",
        "Dari output di atas kita tidak melihat informasi statistik untuk kolom 'dteday'. Hal tersebut terjadi karena data pada kolom 'dteday' bernilai String sedangkan fungsi describe hanya dapat memproses data yang bernilai integer."
      ]
    },
    {
      "cell_type": "code",
      "execution_count": 5,
      "metadata": {},
      "outputs": [
        {
          "name": "stdout",
          "output_type": "stream",
          "text": [
            "instant  = 731\n",
            "dteday      = 731\n",
            "season  = 4\n",
            "yr  = 2\n",
            "mnth  = 12\n",
            "holiday  = 2\n",
            "weekday  = 7\n",
            "workingday  = 2\n",
            "weathersit  = 3\n",
            "temp       = 499\n",
            "atemp      = 690\n",
            "hum       = 595\n",
            "windspeed  = 650\n",
            "casual  = 606\n",
            "registered  = 679\n",
            "cnt = 696\n"
          ]
        }
      ],
      "source": [
        "# Melihat apa saja kolom kategorikal & numerik berdasarkan data unik pada kolom\n",
        "\n",
        "for x in list(day_df):\n",
        "    print(f\"{x} = {day_df[x].nunique()}\")"
      ]
    },
    {
      "cell_type": "markdown",
      "metadata": {},
      "source": [
        "Berdasarkan output di atas, dapat dikelompokkan kolom kategorikal dan numerik berdasarkan keunikan data pada kolomnya sebagai berikut.\n",
        "Kolom kategorikal:\n",
        "- season\n",
        "- yr\n",
        "- mnth\n",
        "- holiday\n",
        "- weekday\n",
        "- workingday\n",
        "- weathersit\n",
        "\n",
        "Kolom numerik:\n",
        "- temp\n",
        "- atemp\n",
        "- hum\n",
        "- windspeed\n",
        "- casual\n",
        "- registered\n",
        "- cnt\n",
        "\n",
        "Kemudian ada beberapa kolom yang akan dibuang pada proses data cleaning yaitu instant dan dteday."
      ]
    },
    {
      "cell_type": "markdown",
      "metadata": {
        "id": "EhN5R4hr8DC1"
      },
      "source": [
        "### Cleaning Data"
      ]
    },
    {
      "cell_type": "markdown",
      "metadata": {},
      "source": [
        "#### Replace Columns Name\n",
        "\n",
        "Pada tahap ini, kita akan mengubah nama dari beberapa kolom yang sebelumnya terdapat blank space pada penulisannya yang membuat penulisan kode tidak efektif. Berikut merupakan list dari nama kolom dan lihat ada beberapa kolom yang memiliki spasi kosong di belakang namanya."
      ]
    },
    {
      "cell_type": "code",
      "execution_count": 6,
      "metadata": {},
      "outputs": [
        {
          "data": {
            "text/plain": [
              "['instant ',\n",
              " 'dteday     ',\n",
              " 'season ',\n",
              " 'yr ',\n",
              " 'mnth ',\n",
              " 'holiday ',\n",
              " 'weekday ',\n",
              " 'workingday ',\n",
              " 'weathersit ',\n",
              " 'temp      ',\n",
              " 'atemp     ',\n",
              " 'hum      ',\n",
              " 'windspeed ',\n",
              " 'casual ',\n",
              " 'registered ',\n",
              " 'cnt']"
            ]
          },
          "execution_count": 6,
          "metadata": {},
          "output_type": "execute_result"
        }
      ],
      "source": [
        "list(day_df)"
      ]
    },
    {
      "cell_type": "code",
      "execution_count": 7,
      "metadata": {},
      "outputs": [],
      "source": [
        "day_df.columns = [\n",
        "    'instant',\n",
        "    'dteday',\n",
        "    'season',\n",
        "    'yr',\n",
        "    'mnth',\n",
        "    'holiday',\n",
        "    'weekday',\n",
        "    'workingday',\n",
        "    'weathersit',\n",
        "    'temp',\n",
        "    'atemp',\n",
        "    'hum',\n",
        "    'windspeed',\n",
        "    'casual',\n",
        "    'registered',\n",
        "    'cnt'\n",
        "]"
      ]
    },
    {
      "cell_type": "markdown",
      "metadata": {},
      "source": [
        "Berikut merupakan nama kolom setelah dilakukan perubahan:"
      ]
    },
    {
      "cell_type": "code",
      "execution_count": 8,
      "metadata": {},
      "outputs": [
        {
          "data": {
            "text/plain": [
              "['instant',\n",
              " 'dteday',\n",
              " 'season',\n",
              " 'yr',\n",
              " 'mnth',\n",
              " 'holiday',\n",
              " 'weekday',\n",
              " 'workingday',\n",
              " 'weathersit',\n",
              " 'temp',\n",
              " 'atemp',\n",
              " 'hum',\n",
              " 'windspeed',\n",
              " 'casual',\n",
              " 'registered',\n",
              " 'cnt']"
            ]
          },
          "execution_count": 8,
          "metadata": {},
          "output_type": "execute_result"
        }
      ],
      "source": [
        "list(day_df)"
      ]
    },
    {
      "cell_type": "markdown",
      "metadata": {},
      "source": [
        "#### Handling Duplicated Data\n",
        "Pada tahap ini kita akan memeriksa apakah ada data duplikat pada dataset yang kita gunakan. Jika ada maka kita perlu untuk menghapusnya agar tidak boros informasi serta mengurangi kemungkinan overfitting."
      ]
    },
    {
      "cell_type": "code",
      "execution_count": 9,
      "metadata": {},
      "outputs": [
        {
          "data": {
            "text/plain": [
              "np.int64(0)"
            ]
          },
          "execution_count": 9,
          "metadata": {},
          "output_type": "execute_result"
        }
      ],
      "source": [
        "day_df.duplicated().sum()\n",
        "\n",
        "# Tidak ada data duplikat, jadi aman"
      ]
    },
    {
      "cell_type": "markdown",
      "metadata": {},
      "source": [
        "#### Handling Missing Value\n",
        "Pada tahap ini kita perlu memastikan apakah ada nilai yang bernilai kosong pada dataset kita karena akan memiliki pengaruh pada proses analisis nanti jika data kita memiliki informasi yang kurang."
      ]
    },
    {
      "cell_type": "code",
      "execution_count": 10,
      "metadata": {},
      "outputs": [
        {
          "data": {
            "text/plain": [
              "instant       0\n",
              "dteday        0\n",
              "season        0\n",
              "yr            0\n",
              "mnth          0\n",
              "holiday       0\n",
              "weekday       0\n",
              "workingday    0\n",
              "weathersit    0\n",
              "temp          0\n",
              "atemp         0\n",
              "hum           0\n",
              "windspeed     0\n",
              "casual        0\n",
              "registered    0\n",
              "cnt           0\n",
              "dtype: int64"
            ]
          },
          "execution_count": 10,
          "metadata": {},
          "output_type": "execute_result"
        }
      ],
      "source": [
        "# Melihat apakah ada data yang bernilai kosong\n",
        "\n",
        "day_df.isnull().sum()"
      ]
    },
    {
      "cell_type": "markdown",
      "metadata": {
        "id": "gp-Y6wU38DC1"
      },
      "source": [
        "## Exploratory Data Analysis (EDA)"
      ]
    },
    {
      "cell_type": "markdown",
      "metadata": {
        "id": "MW7WF2kr8DC1"
      },
      "source": [
        "Exploratory Data Analysis atau sering disingkat EDA merupakan proses investigasi awal pada data untuk menganalisis karakteristik, menemukan pola, anomali, dan memeriksa asumsi pada data."
      ]
    },
    {
      "cell_type": "code",
      "execution_count": 11,
      "metadata": {},
      "outputs": [
        {
          "data": {
            "text/html": [
              "<div>\n",
              "<style scoped>\n",
              "    .dataframe tbody tr th:only-of-type {\n",
              "        vertical-align: middle;\n",
              "    }\n",
              "\n",
              "    .dataframe tbody tr th {\n",
              "        vertical-align: top;\n",
              "    }\n",
              "\n",
              "    .dataframe thead th {\n",
              "        text-align: right;\n",
              "    }\n",
              "</style>\n",
              "<table border=\"1\" class=\"dataframe\">\n",
              "  <thead>\n",
              "    <tr style=\"text-align: right;\">\n",
              "      <th></th>\n",
              "      <th>instant</th>\n",
              "      <th>season</th>\n",
              "      <th>yr</th>\n",
              "      <th>mnth</th>\n",
              "      <th>holiday</th>\n",
              "      <th>weekday</th>\n",
              "      <th>workingday</th>\n",
              "      <th>weathersit</th>\n",
              "      <th>temp</th>\n",
              "      <th>atemp</th>\n",
              "      <th>hum</th>\n",
              "      <th>windspeed</th>\n",
              "      <th>casual</th>\n",
              "      <th>registered</th>\n",
              "      <th>cnt</th>\n",
              "    </tr>\n",
              "  </thead>\n",
              "  <tbody>\n",
              "    <tr>\n",
              "      <th>count</th>\n",
              "      <td>731.000000</td>\n",
              "      <td>731.000000</td>\n",
              "      <td>731.000000</td>\n",
              "      <td>731.000000</td>\n",
              "      <td>731.000000</td>\n",
              "      <td>731.000000</td>\n",
              "      <td>731.000000</td>\n",
              "      <td>731.000000</td>\n",
              "      <td>731.000000</td>\n",
              "      <td>731.000000</td>\n",
              "      <td>731.000000</td>\n",
              "      <td>731.000000</td>\n",
              "      <td>731.000000</td>\n",
              "      <td>731.000000</td>\n",
              "      <td>731.000000</td>\n",
              "    </tr>\n",
              "    <tr>\n",
              "      <th>mean</th>\n",
              "      <td>366.000000</td>\n",
              "      <td>2.496580</td>\n",
              "      <td>0.500684</td>\n",
              "      <td>6.519836</td>\n",
              "      <td>0.028728</td>\n",
              "      <td>2.997264</td>\n",
              "      <td>0.683995</td>\n",
              "      <td>1.395349</td>\n",
              "      <td>0.495385</td>\n",
              "      <td>0.474354</td>\n",
              "      <td>0.627894</td>\n",
              "      <td>0.190486</td>\n",
              "      <td>848.176471</td>\n",
              "      <td>3656.172367</td>\n",
              "      <td>4504.348837</td>\n",
              "    </tr>\n",
              "    <tr>\n",
              "      <th>std</th>\n",
              "      <td>211.165812</td>\n",
              "      <td>1.110807</td>\n",
              "      <td>0.500342</td>\n",
              "      <td>3.451913</td>\n",
              "      <td>0.167155</td>\n",
              "      <td>2.004787</td>\n",
              "      <td>0.465233</td>\n",
              "      <td>0.544894</td>\n",
              "      <td>0.183051</td>\n",
              "      <td>0.162961</td>\n",
              "      <td>0.142429</td>\n",
              "      <td>0.077498</td>\n",
              "      <td>686.622488</td>\n",
              "      <td>1560.256377</td>\n",
              "      <td>1937.211452</td>\n",
              "    </tr>\n",
              "    <tr>\n",
              "      <th>min</th>\n",
              "      <td>1.000000</td>\n",
              "      <td>1.000000</td>\n",
              "      <td>0.000000</td>\n",
              "      <td>1.000000</td>\n",
              "      <td>0.000000</td>\n",
              "      <td>0.000000</td>\n",
              "      <td>0.000000</td>\n",
              "      <td>1.000000</td>\n",
              "      <td>0.059130</td>\n",
              "      <td>0.079070</td>\n",
              "      <td>0.000000</td>\n",
              "      <td>0.022392</td>\n",
              "      <td>2.000000</td>\n",
              "      <td>20.000000</td>\n",
              "      <td>22.000000</td>\n",
              "    </tr>\n",
              "    <tr>\n",
              "      <th>25%</th>\n",
              "      <td>183.500000</td>\n",
              "      <td>2.000000</td>\n",
              "      <td>0.000000</td>\n",
              "      <td>4.000000</td>\n",
              "      <td>0.000000</td>\n",
              "      <td>1.000000</td>\n",
              "      <td>0.000000</td>\n",
              "      <td>1.000000</td>\n",
              "      <td>0.337083</td>\n",
              "      <td>0.337842</td>\n",
              "      <td>0.520000</td>\n",
              "      <td>0.134950</td>\n",
              "      <td>315.500000</td>\n",
              "      <td>2497.000000</td>\n",
              "      <td>3152.000000</td>\n",
              "    </tr>\n",
              "    <tr>\n",
              "      <th>50%</th>\n",
              "      <td>366.000000</td>\n",
              "      <td>3.000000</td>\n",
              "      <td>1.000000</td>\n",
              "      <td>7.000000</td>\n",
              "      <td>0.000000</td>\n",
              "      <td>3.000000</td>\n",
              "      <td>1.000000</td>\n",
              "      <td>1.000000</td>\n",
              "      <td>0.498333</td>\n",
              "      <td>0.486733</td>\n",
              "      <td>0.626667</td>\n",
              "      <td>0.180975</td>\n",
              "      <td>713.000000</td>\n",
              "      <td>3662.000000</td>\n",
              "      <td>4548.000000</td>\n",
              "    </tr>\n",
              "    <tr>\n",
              "      <th>75%</th>\n",
              "      <td>548.500000</td>\n",
              "      <td>3.000000</td>\n",
              "      <td>1.000000</td>\n",
              "      <td>10.000000</td>\n",
              "      <td>0.000000</td>\n",
              "      <td>5.000000</td>\n",
              "      <td>1.000000</td>\n",
              "      <td>2.000000</td>\n",
              "      <td>0.655417</td>\n",
              "      <td>0.608602</td>\n",
              "      <td>0.730209</td>\n",
              "      <td>0.233214</td>\n",
              "      <td>1096.000000</td>\n",
              "      <td>4776.500000</td>\n",
              "      <td>5956.000000</td>\n",
              "    </tr>\n",
              "    <tr>\n",
              "      <th>max</th>\n",
              "      <td>731.000000</td>\n",
              "      <td>4.000000</td>\n",
              "      <td>1.000000</td>\n",
              "      <td>12.000000</td>\n",
              "      <td>1.000000</td>\n",
              "      <td>6.000000</td>\n",
              "      <td>1.000000</td>\n",
              "      <td>3.000000</td>\n",
              "      <td>0.861667</td>\n",
              "      <td>0.840896</td>\n",
              "      <td>0.972500</td>\n",
              "      <td>0.507463</td>\n",
              "      <td>3410.000000</td>\n",
              "      <td>6946.000000</td>\n",
              "      <td>8714.000000</td>\n",
              "    </tr>\n",
              "  </tbody>\n",
              "</table>\n",
              "</div>"
            ],
            "text/plain": [
              "          instant      season          yr        mnth     holiday     weekday  \\\n",
              "count  731.000000  731.000000  731.000000  731.000000  731.000000  731.000000   \n",
              "mean   366.000000    2.496580    0.500684    6.519836    0.028728    2.997264   \n",
              "std    211.165812    1.110807    0.500342    3.451913    0.167155    2.004787   \n",
              "min      1.000000    1.000000    0.000000    1.000000    0.000000    0.000000   \n",
              "25%    183.500000    2.000000    0.000000    4.000000    0.000000    1.000000   \n",
              "50%    366.000000    3.000000    1.000000    7.000000    0.000000    3.000000   \n",
              "75%    548.500000    3.000000    1.000000   10.000000    0.000000    5.000000   \n",
              "max    731.000000    4.000000    1.000000   12.000000    1.000000    6.000000   \n",
              "\n",
              "       workingday  weathersit        temp       atemp         hum   windspeed  \\\n",
              "count  731.000000  731.000000  731.000000  731.000000  731.000000  731.000000   \n",
              "mean     0.683995    1.395349    0.495385    0.474354    0.627894    0.190486   \n",
              "std      0.465233    0.544894    0.183051    0.162961    0.142429    0.077498   \n",
              "min      0.000000    1.000000    0.059130    0.079070    0.000000    0.022392   \n",
              "25%      0.000000    1.000000    0.337083    0.337842    0.520000    0.134950   \n",
              "50%      1.000000    1.000000    0.498333    0.486733    0.626667    0.180975   \n",
              "75%      1.000000    2.000000    0.655417    0.608602    0.730209    0.233214   \n",
              "max      1.000000    3.000000    0.861667    0.840896    0.972500    0.507463   \n",
              "\n",
              "            casual   registered          cnt  \n",
              "count   731.000000   731.000000   731.000000  \n",
              "mean    848.176471  3656.172367  4504.348837  \n",
              "std     686.622488  1560.256377  1937.211452  \n",
              "min       2.000000    20.000000    22.000000  \n",
              "25%     315.500000  2497.000000  3152.000000  \n",
              "50%     713.000000  3662.000000  4548.000000  \n",
              "75%    1096.000000  4776.500000  5956.000000  \n",
              "max    3410.000000  6946.000000  8714.000000  "
            ]
          },
          "execution_count": 11,
          "metadata": {},
          "output_type": "execute_result"
        }
      ],
      "source": [
        "day_df.describe()"
      ]
    },
    {
      "cell_type": "markdown",
      "metadata": {
        "id": "th_Lzl2Fkj9O"
      },
      "source": [
        "Berdasarkan data statistik di atas diketahui bahwa terdapat 731 hari penyewaan sepeda oleh pelanggan selama 2 tahun. Berikut rangkuman parameter statistik dari data tersebut:\n",
        "- Sebagian besar penyewaan sepeda terjadi pada musim panas (kategori 2 pada kolom 'season': musim panas).\n",
        "- Rata-rata bulan penyewaan berada di sekitar bulan Juni (kategori 6 pada kolom 'mnth': bulan Juni) atau pertengahan tahun.\n",
        "- Untuk hari libur penyewaan kurang diminati hanya berkisar 0.3% dari keseluruhan data, berbanding terbalik dengan hari kerja yang mana sebagian besar penyewaan sepeda terjadi di hari kerja dengan persentase 68%.\n",
        "- Hari Rabu (kategori 3 pada kolom 'weekday': hari Rabu) merupakan rata-rata terjadinya penyewaan sepeda oleh pelanggan di setiap minggunya.\n",
        "- Cuaca berpengaruh besar terhadap penyewaan sepeda, di mana rata-rata penyewaan terjadi pada saat cuaca cerah (kategori 1 pada kolom 'weathersit': cuaca cerah).\n",
        "- Rata-rata penyewaan harian adalah 4504 sepeda.\n",
        "- Pengguna yang terdaftar (member) lebih banyak melakukan penyewaan dengan rata-rata 3656 per harinya dibandingkan dengan pengguna kasual dengan rata-rata 848 per hari."
      ]
    },
    {
      "cell_type": "markdown",
      "metadata": {
        "id": "zsyZjqak8DC2"
      },
      "source": [
        "## Visualization & Explanatory Analysis"
      ]
    },
    {
      "cell_type": "markdown",
      "metadata": {
        "id": "HZxOiQ6n8DC2"
      },
      "source": [
        "### Pertanyaan 1: Bagaimana pengaruh suhu terhadap jumlah penyewaan sepeda?"
      ]
    },
    {
      "cell_type": "markdown",
      "metadata": {},
      "source": [
        "Tahap pertama yang dilakukan adalah mengubah nilai normalisasi pada kolom 'temp' ke dalam nilai aktual suhu dalam celcius (°C). Kemudian membuat sebuah kolom baru dengan nama 'temp_actual' yang menyimpan nilai aktual dari suhu yang telah dinormalisasi. Hal ini dilakukan untuk mempermudah proses analisis dengan menggunakan nilai aktual dari suhu tersebut. Berdasarkan dokumentasi pada dataset Bike Sharing ini, didapatkan nilai t_min (suhu minimum) = -8 dan t_max (suhu maksimum) = 39. Kemudian rumus yang digunakan sebagai berikut:\n",
        "$$\n",
        "temp \\: actual = temp \\times ({t_{max} - t_{min}}) + t_{min}\n",
        "$$"
      ]
    },
    {
      "cell_type": "code",
      "execution_count": 12,
      "metadata": {},
      "outputs": [
        {
          "data": {
            "text/html": [
              "<div>\n",
              "<style scoped>\n",
              "    .dataframe tbody tr th:only-of-type {\n",
              "        vertical-align: middle;\n",
              "    }\n",
              "\n",
              "    .dataframe tbody tr th {\n",
              "        vertical-align: top;\n",
              "    }\n",
              "\n",
              "    .dataframe thead th {\n",
              "        text-align: right;\n",
              "    }\n",
              "</style>\n",
              "<table border=\"1\" class=\"dataframe\">\n",
              "  <thead>\n",
              "    <tr style=\"text-align: right;\">\n",
              "      <th></th>\n",
              "      <th>instant</th>\n",
              "      <th>dteday</th>\n",
              "      <th>season</th>\n",
              "      <th>yr</th>\n",
              "      <th>mnth</th>\n",
              "      <th>holiday</th>\n",
              "      <th>weekday</th>\n",
              "      <th>workingday</th>\n",
              "      <th>weathersit</th>\n",
              "      <th>temp</th>\n",
              "      <th>temp_actual</th>\n",
              "      <th>atemp</th>\n",
              "      <th>hum</th>\n",
              "      <th>windspeed</th>\n",
              "      <th>casual</th>\n",
              "      <th>registered</th>\n",
              "      <th>cnt</th>\n",
              "    </tr>\n",
              "  </thead>\n",
              "  <tbody>\n",
              "    <tr>\n",
              "      <th>0</th>\n",
              "      <td>1</td>\n",
              "      <td>2011-01-01</td>\n",
              "      <td>1</td>\n",
              "      <td>0</td>\n",
              "      <td>1</td>\n",
              "      <td>0</td>\n",
              "      <td>6</td>\n",
              "      <td>0</td>\n",
              "      <td>2</td>\n",
              "      <td>0.344167</td>\n",
              "      <td>8.175849</td>\n",
              "      <td>0.363625</td>\n",
              "      <td>0.805833</td>\n",
              "      <td>0.160446</td>\n",
              "      <td>331</td>\n",
              "      <td>654</td>\n",
              "      <td>985</td>\n",
              "    </tr>\n",
              "    <tr>\n",
              "      <th>1</th>\n",
              "      <td>2</td>\n",
              "      <td>2011-01-02</td>\n",
              "      <td>1</td>\n",
              "      <td>0</td>\n",
              "      <td>1</td>\n",
              "      <td>0</td>\n",
              "      <td>0</td>\n",
              "      <td>0</td>\n",
              "      <td>2</td>\n",
              "      <td>0.363478</td>\n",
              "      <td>9.083466</td>\n",
              "      <td>0.353739</td>\n",
              "      <td>0.696087</td>\n",
              "      <td>0.248539</td>\n",
              "      <td>131</td>\n",
              "      <td>670</td>\n",
              "      <td>801</td>\n",
              "    </tr>\n",
              "    <tr>\n",
              "      <th>2</th>\n",
              "      <td>3</td>\n",
              "      <td>2011-01-03</td>\n",
              "      <td>1</td>\n",
              "      <td>0</td>\n",
              "      <td>1</td>\n",
              "      <td>0</td>\n",
              "      <td>1</td>\n",
              "      <td>1</td>\n",
              "      <td>1</td>\n",
              "      <td>0.196364</td>\n",
              "      <td>1.229108</td>\n",
              "      <td>0.189405</td>\n",
              "      <td>0.437273</td>\n",
              "      <td>0.248309</td>\n",
              "      <td>120</td>\n",
              "      <td>1229</td>\n",
              "      <td>1349</td>\n",
              "    </tr>\n",
              "    <tr>\n",
              "      <th>3</th>\n",
              "      <td>4</td>\n",
              "      <td>2011-01-04</td>\n",
              "      <td>1</td>\n",
              "      <td>0</td>\n",
              "      <td>1</td>\n",
              "      <td>0</td>\n",
              "      <td>2</td>\n",
              "      <td>1</td>\n",
              "      <td>1</td>\n",
              "      <td>0.200000</td>\n",
              "      <td>1.400000</td>\n",
              "      <td>0.212122</td>\n",
              "      <td>0.590435</td>\n",
              "      <td>0.160296</td>\n",
              "      <td>108</td>\n",
              "      <td>1454</td>\n",
              "      <td>1562</td>\n",
              "    </tr>\n",
              "    <tr>\n",
              "      <th>4</th>\n",
              "      <td>5</td>\n",
              "      <td>2011-01-05</td>\n",
              "      <td>1</td>\n",
              "      <td>0</td>\n",
              "      <td>1</td>\n",
              "      <td>0</td>\n",
              "      <td>3</td>\n",
              "      <td>1</td>\n",
              "      <td>1</td>\n",
              "      <td>0.226957</td>\n",
              "      <td>2.666979</td>\n",
              "      <td>0.229270</td>\n",
              "      <td>0.436957</td>\n",
              "      <td>0.186900</td>\n",
              "      <td>82</td>\n",
              "      <td>1518</td>\n",
              "      <td>1600</td>\n",
              "    </tr>\n",
              "  </tbody>\n",
              "</table>\n",
              "</div>"
            ],
            "text/plain": [
              "   instant       dteday  season  yr  mnth  holiday  weekday  workingday  \\\n",
              "0        1  2011-01-01        1   0     1        0        6           0   \n",
              "1        2  2011-01-02        1   0     1        0        0           0   \n",
              "2        3  2011-01-03        1   0     1        0        1           1   \n",
              "3        4  2011-01-04        1   0     1        0        2           1   \n",
              "4        5  2011-01-05        1   0     1        0        3           1   \n",
              "\n",
              "   weathersit      temp  temp_actual     atemp       hum  windspeed  casual  \\\n",
              "0           2  0.344167     8.175849  0.363625  0.805833   0.160446     331   \n",
              "1           2  0.363478     9.083466  0.353739  0.696087   0.248539     131   \n",
              "2           1  0.196364     1.229108  0.189405  0.437273   0.248309     120   \n",
              "3           1  0.200000     1.400000  0.212122  0.590435   0.160296     108   \n",
              "4           1  0.226957     2.666979  0.229270  0.436957   0.186900      82   \n",
              "\n",
              "   registered   cnt  \n",
              "0         654   985  \n",
              "1         670   801  \n",
              "2        1229  1349  \n",
              "3        1454  1562  \n",
              "4        1518  1600  "
            ]
          },
          "execution_count": 12,
          "metadata": {},
          "output_type": "execute_result"
        }
      ],
      "source": [
        "t_min = -8 \n",
        "t_max = 39\n",
        "day_df['temp_actual'] = day_df['temp'] * (t_max - t_min) + t_min\n",
        "day_df.insert(day_df.columns.get_loc('temp') + 1, 'temp_actual', day_df.pop('temp_actual'))\n",
        "day_df.head()"
      ]
    },
    {
      "cell_type": "code",
      "execution_count": 13,
      "metadata": {},
      "outputs": [
        {
          "data": {
            "image/png": "[encoded data removed]",
            "text/plain": [
              "<Figure size 640x480 with 1 Axes>"
            ]
          },
          "metadata": {},
          "output_type": "display_data"
        }
      ],
      "source": [
        "plt.scatter(day_df['temp_actual'], day_df['cnt'], alpha=0.5)\n",
        "plt.title(\"Pengaruh Suhu terhadap Penyewaan Sepeda\")\n",
        "plt.xlabel(\"Suhu (°C)\")\n",
        "plt.ylabel(\"Jumlah Penyewaan Sepeda\")\n",
        "plt.grid()\n",
        "plt.show()"
      ]
    },
    {
      "cell_type": "markdown",
      "metadata": {},
      "source": [
        "Berdasarkan data di atas, didapatkan insight sebagai berikut:\n",
        "- Terdapat pola hubungan positif antara suhu udara dan jumlah penyewaan sepeda. Ketika suhu meningkat, jumlah penyewaan sepeda cenderung bertambah hingga titik tertentu.\n",
        "- Aktivitas penyewaan sepeda tampaknya mencapai puncaknya pada suhu sekitar 20–25°C. Setelah suhu melewati angka tersebut, jumlah penyewaan mulai stabil atau bahkan sedikit menurun.\n",
        "- Pada suhu sangat rendah (di bawah 5°C) atau sangat tinggi (di atas 30°C), jumlah penyewaan cenderung lebih sedikit. Ini mungkin disebabkan oleh ketidaknyamanan bersepeda dalam kondisi tersebut.\n",
        "- Terdapat cukup banyak penyebaran data pada suhu tertentu, yang menunjukkan bahwa faktor lain mungkin memengaruhi jumlah penyewaan sepeda selain suhu, seperti hari kerja, cuaca, atau musim."
      ]
    },
    {
      "cell_type": "markdown",
      "metadata": {
        "id": "DgHI7CiU8DC2"
      },
      "source": [
        "### Pertanyaan 2: Apa perbedaan pola penyewaan sepeda berdasarkan hari kerja dan hari non-kerja?"
      ]
    },
    {
      "cell_type": "code",
      "execution_count": 14,
      "metadata": {},
      "outputs": [
        {
          "data": {
            "image/png": "[encoded data removed]",
            "text/plain": [
              "<Figure size 640x480 with 1 Axes>"
            ]
          },
          "metadata": {},
          "output_type": "display_data"
        }
      ],
      "source": [
        "total_rent_perday = day_df.groupby('workingday')['cnt'].sum()\n",
        "total_rent_perday.plot(kind='bar')\n",
        "\n",
        "plt.title('Perbandingan Penyewaan Sepeda: Hari Kerja vs Hari Non-Kerja')\n",
        "plt.xlabel('workingday (1 = hari kerja, 0 = hari non-kerja)')\n",
        "plt.ylabel('Total Sepeda yang Disewa')\n",
        "plt.xticks([0, 1], ['Hari Non-Kerja', 'Hari Kerja'], rotation=0)\n",
        "plt.show()"
      ]
    },
    {
      "cell_type": "markdown",
      "metadata": {},
      "source": [
        "- Dari perhitungan total penyewaan sepeda pada hari kerja dan non-hari kerja, bisa dilihat bahwa lebih banyak orang yang menyewa sepeda saat bekerja dibandingkan dengan hari libur. Biasanya, pada hari kerja, orang lebih cenderung menggunakan sepeda untuk transportasi ke tempat kerja atau kegiatan sehari-hari. Sedangkan pada hari libur, penyewaan bisa meningkat karena orang mungkin beraktivitas lebih banyak di luar rumah (rekreasi)"
      ]
    },
    {
      "cell_type": "markdown",
      "metadata": {},
      "source": [
        "### Pertanyaan 3: Bagaimana pengaruh musim terhadap penyewaan sepeda?"
      ]
    },
    {
      "cell_type": "code",
      "execution_count": 15,
      "metadata": {},
      "outputs": [
        {
          "data": {
            "image/png": "[encoded data removed]",
            "text/plain": [
              "<Figure size 640x480 with 1 Axes>"
            ]
          },
          "metadata": {},
          "output_type": "display_data"
        }
      ],
      "source": [
        "total_rent_per_weather = day_df.groupby('season')['cnt'].sum()\n",
        "total_rent_per_weather.plot(kind='bar')\n",
        "\n",
        "plt.title('Perbandingan Penyewaan Sepeda Setiap Musim')\n",
        "plt.xlabel('Musim')\n",
        "plt.ylabel('Total Sepeda yang Disewa')\n",
        "plt.xticks([0, 1, 2, 3], ['Semi', 'Panas', 'Gugur', 'Dingin'], rotation=0)\n",
        "plt.show()"
      ]
    },
    {
      "cell_type": "markdown",
      "metadata": {},
      "source": [
        "- Jumlah penyewaan sepeda pada saat musim semi terlihat paling rendah. Cuaca pada awal tahun cenderung kurang ideal, mungkin lebih banyak hujan atau suhu yang lebih rendah sehingga menghambat aktivitas luar ruangan.\n",
        "\n",
        "- Pada saat musim panas, penyewaan mulai meningkat pesat. Kondisi cuaca yang semakin cerah dan hangat cocok untuk aktivitas luar ruangan, termasuk bersepeda.\n",
        "\n",
        "- Musim gugur merupakan puncak penyewaan sepeda tertinggi. Kemungkinan besar cuaca relatif stabil dengan suhu yang nyaman sebelum masuk musim dingin.\n",
        "\n",
        "- Memasuki musim dingin, penyewaan sepeda masih cukup tinggi, meskipun menurun dari puncaknya di musim gugur. Hal ini menunjukkan adanya kebutuhan transportasi meski kondisi cuaca dan suhu kurang mendukung."
      ]
    },
    {
      "cell_type": "markdown",
      "metadata": {
        "id": "9y4VUsmcYNZ5"
      },
      "source": [
        "## Analisis Lanjutan (Clustering)\n",
        "\n",
        "Berdasarkan dataset Bike Sharing ini, terdapat dua jenis pengguna yaitu pengguna kasual (casual) dan terdaftar (registered). Kemudian dilakukan pengelompokan dengan menggunakan teknik Clustering yang bertujuan untuk melihat pola pengguna dalam menyewa sepeda pada saat hari kerja."
      ]
    },
    {
      "cell_type": "code",
      "execution_count": 16,
      "metadata": {
        "id": "iWhnzsJGYUCO"
      },
      "outputs": [
        {
          "data": {
            "text/html": [
              "<div>\n",
              "<style scoped>\n",
              "    .dataframe tbody tr th:only-of-type {\n",
              "        vertical-align: middle;\n",
              "    }\n",
              "\n",
              "    .dataframe tbody tr th {\n",
              "        vertical-align: top;\n",
              "    }\n",
              "\n",
              "    .dataframe thead th {\n",
              "        text-align: right;\n",
              "    }\n",
              "</style>\n",
              "<table border=\"1\" class=\"dataframe\">\n",
              "  <thead>\n",
              "    <tr style=\"text-align: right;\">\n",
              "      <th></th>\n",
              "      <th>casual</th>\n",
              "      <th>registered</th>\n",
              "      <th>workingday</th>\n",
              "    </tr>\n",
              "  </thead>\n",
              "  <tbody>\n",
              "    <tr>\n",
              "      <th>0</th>\n",
              "      <td>0.096538</td>\n",
              "      <td>0.091539</td>\n",
              "      <td>0.0</td>\n",
              "    </tr>\n",
              "    <tr>\n",
              "      <th>1</th>\n",
              "      <td>0.037852</td>\n",
              "      <td>0.093849</td>\n",
              "      <td>0.0</td>\n",
              "    </tr>\n",
              "    <tr>\n",
              "      <th>2</th>\n",
              "      <td>0.034624</td>\n",
              "      <td>0.174560</td>\n",
              "      <td>1.0</td>\n",
              "    </tr>\n",
              "    <tr>\n",
              "      <th>3</th>\n",
              "      <td>0.031103</td>\n",
              "      <td>0.207046</td>\n",
              "      <td>1.0</td>\n",
              "    </tr>\n",
              "    <tr>\n",
              "      <th>4</th>\n",
              "      <td>0.023474</td>\n",
              "      <td>0.216286</td>\n",
              "      <td>1.0</td>\n",
              "    </tr>\n",
              "  </tbody>\n",
              "</table>\n",
              "</div>"
            ],
            "text/plain": [
              "     casual  registered  workingday\n",
              "0  0.096538    0.091539         0.0\n",
              "1  0.037852    0.093849         0.0\n",
              "2  0.034624    0.174560         1.0\n",
              "3  0.031103    0.207046         1.0\n",
              "4  0.023474    0.216286         1.0"
            ]
          },
          "execution_count": 16,
          "metadata": {},
          "output_type": "execute_result"
        }
      ],
      "source": [
        "data = day_df[['casual', 'registered', 'workingday']]\n",
        "\n",
        "scaler = MinMaxScaler()\n",
        "data_normalized = pd.DataFrame(scaler.fit_transform(data), columns=data.columns)\n",
        "data_normalized.head()"
      ]
    },
    {
      "cell_type": "code",
      "execution_count": 17,
      "metadata": {},
      "outputs": [
        {
          "data": {
            "text/html": [
              "<div>\n",
              "<style scoped>\n",
              "    .dataframe tbody tr th:only-of-type {\n",
              "        vertical-align: middle;\n",
              "    }\n",
              "\n",
              "    .dataframe tbody tr th {\n",
              "        vertical-align: top;\n",
              "    }\n",
              "\n",
              "    .dataframe thead th {\n",
              "        text-align: right;\n",
              "    }\n",
              "</style>\n",
              "<table border=\"1\" class=\"dataframe\">\n",
              "  <thead>\n",
              "    <tr style=\"text-align: right;\">\n",
              "      <th></th>\n",
              "      <th>casual</th>\n",
              "      <th>registered</th>\n",
              "      <th>cluster</th>\n",
              "    </tr>\n",
              "  </thead>\n",
              "  <tbody>\n",
              "    <tr>\n",
              "      <th>2</th>\n",
              "      <td>0.034624</td>\n",
              "      <td>0.174560</td>\n",
              "      <td>Cluster 1 (Low Casual, Low Registered)</td>\n",
              "    </tr>\n",
              "    <tr>\n",
              "      <th>3</th>\n",
              "      <td>0.031103</td>\n",
              "      <td>0.207046</td>\n",
              "      <td>Cluster 1 (Low Casual, Low Registered)</td>\n",
              "    </tr>\n",
              "    <tr>\n",
              "      <th>4</th>\n",
              "      <td>0.023474</td>\n",
              "      <td>0.216286</td>\n",
              "      <td>Cluster 1 (Low Casual, Low Registered)</td>\n",
              "    </tr>\n",
              "    <tr>\n",
              "      <th>5</th>\n",
              "      <td>0.025235</td>\n",
              "      <td>0.216286</td>\n",
              "      <td>Cluster 1 (Low Casual, Low Registered)</td>\n",
              "    </tr>\n",
              "    <tr>\n",
              "      <th>6</th>\n",
              "      <td>0.042840</td>\n",
              "      <td>0.193763</td>\n",
              "      <td>Cluster 1 (Low Casual, Low Registered)</td>\n",
              "    </tr>\n",
              "  </tbody>\n",
              "</table>\n",
              "</div>"
            ],
            "text/plain": [
              "     casual  registered                                 cluster\n",
              "2  0.034624    0.174560  Cluster 1 (Low Casual, Low Registered)\n",
              "3  0.031103    0.207046  Cluster 1 (Low Casual, Low Registered)\n",
              "4  0.023474    0.216286  Cluster 1 (Low Casual, Low Registered)\n",
              "5  0.025235    0.216286  Cluster 1 (Low Casual, Low Registered)\n",
              "6  0.042840    0.193763  Cluster 1 (Low Casual, Low Registered)"
            ]
          },
          "execution_count": 17,
          "metadata": {},
          "output_type": "execute_result"
        }
      ],
      "source": [
        "workingday_data = data_normalized[data_normalized['workingday'] == 1]\n",
        "\n",
        "def assign_cluster(row):\n",
        "    if row['casual'] < 0.5 and row['registered'] < 0.5:\n",
        "        return 'Cluster 1 (Low Casual, Low Registered)'\n",
        "    elif row['casual'] < 0.5 and row['registered'] >= 0.5:\n",
        "        return 'Cluster 2 (Low Casual, High Registered)'\n",
        "    elif row['casual'] >= 0.5 and row['registered'] < 0.5:\n",
        "        return 'Cluster 3 (High Casual, Low Registered)'\n",
        "    else:\n",
        "        return 'Cluster 4 (High Casual, High Registered)'\n",
        "    \n",
        "\n",
        "workingday_data['cluster'] = workingday_data.apply(assign_cluster, axis=1)\n",
        "workingday_data[['casual', 'registered', 'cluster']].head()"
      ]
    },
    {
      "cell_type": "markdown",
      "metadata": {},
      "source": [
        "- Data difilter untuk hanya menyertakan hari kerja (workingday == 1).\n",
        "- Data dikelompokkan ke dalam 4 cluster berdasarkan nilai pada kolom 'casual' dan 'registered':\n",
        "    - Kelompok 1: casual rendah, registered rendah\n",
        "    - Kelompok 2: casual rendah, registered tinggi\n",
        "    - Kelompok 3: casual tinggi, registered rendah\n",
        "    - Kelompok 4: casual tinggi, registered tinggi\n",
        "- Kolom baru bernama 'cluster' ditambahkan ke dataset berdasarkan hasil pengelompokan."
      ]
    },
    {
      "cell_type": "code",
      "execution_count": 18,
      "metadata": {},
      "outputs": [
        {
          "data": {
            "image/png": "[encoded data removed]",
            "text/plain": [
              "<Figure size 1000x600 with 1 Axes>"
            ]
          },
          "metadata": {},
          "output_type": "display_data"
        }
      ],
      "source": [
        "plt.figure(figsize=(10, 6))\n",
        "sns.scatterplot(\n",
        "    data=workingday_data,\n",
        "    x='casual',\n",
        "    y='registered',\n",
        "    hue='cluster',\n",
        "    palette='Set2'\n",
        ")\n",
        "plt.title('Clustering Pengguna Casual dan Registered pada Hari Kerja')\n",
        "plt.xlabel('Casual (Normalized)')\n",
        "plt.ylabel('Registered (Normalized)')\n",
        "plt.legend(title='Cluster')\n",
        "plt.show()"
      ]
    },
    {
      "cell_type": "markdown",
      "metadata": {},
      "source": [
        "Berikut adalah beberapa insight yang dapat diambil berdasarkan pengelompokan penyewa sepeda pada hari kerja:\n",
        "- Sebagian besar titik data terkonsentrasi di Cluster 2 (Low Casual, High Registered), menunjukkan bahwa pada hari kerja, sepeda lebih banyak digunakan oleh pengguna terdaftar dibandingkan kasual\n",
        "- Sangat sedikit data yang berada di Cluster 4 (High Casual, High Registered), mengindikasikan bahwa aktivitas penggunaan sepeda oleh kedua tipe pengguna secara bersamaan relatif jarang terjadi pada hari kerja\n",
        "- Tidak ada data yang masuk ke Cluster 3 (High Casual, Low Registered), mengindikasikan bahwa pada hari kerja, pengguna kasual hampir tidak pernah aktif tanpa keterlibatan pengguna terdaftar\n",
        "- Cluster 1 (Low Casual, Low Registered) memiliki jumlah data yang signifikan, mencerminkan waktu atau lokasi di mana aktivitas penyewaan sepeda rendah untuk kedua jenis pengguna, kemungkinan terjadi di area yang tidak sibuk atau pada waktu tertentu\n",
        "- Data ini mencerminkan bahwa layanan berbagi sepeda di hari kerja lebih sesuai untuk pengguna terdaftar yang menggunakan sepeda untuk kebutuhan transportasi rutin dibandingkan kebutuhan rekreasi"
      ]
    },
    {
      "cell_type": "markdown",
      "metadata": {
        "id": "_WeHlCeX8DC2"
      },
      "source": [
        "## Conclusion"
      ]
    },
    {
      "cell_type": "markdown",
      "metadata": {
        "id": "ZTcyR48Y8DC2"
      },
      "source": [
        "- Terdapat hubungan positif antara suhu dan jumlah penyewaan sepeda. Jumlah penyewaan cenderung meningkat pada saat suhu berada di kisaran 20-25°C. Namun, setelah suhu melewati kisaran tersebut, jumlah penyewaan cenderung stabil atau bahkan sedikit menurun. Pada suhu ekstrem, baik rendah (di bawah 5°C) maupun tinggi (di atas 30°C), jumlah penyewaan sepeda cenderung menurun, hal ini menunjukkan bahwa suhu berpengaruh terhadap penyewaan sepeda.\n",
        "- Penyewaan sepeda lebih banyak terjadi pada hari kerja dibandingkan hari libur. Pada hari kerja, sepeda sering digunakan untuk keperluan transportasi sehari-hari, seperti pergi ke tempat kerja atau aktivitas rutin lainnya. Sementara itu, pada hari libur, meskipun penyewaan bisa meningkat, hal ini lebih disebabkan oleh tingginya aktivitas rekreasi dan hiburan di luar rumah.\n",
        "- Musim berpengaruh besar terhadap jumlah penyewaan sepeda. Di musim semi, penyewaan cenderung rendah, hal ini disebabkan karena cuaca yang lebih sering hujan atau suhu yang lebih dingin, membuat orang kurang tertarik untuk bersepeda. Saat musim panas, penyewaan meningkat pesat karena cuaca yang lebih hangat dan cerah, cocok untuk aktivitas luar ruangan. Musim gugur menjadi puncak penyewaan sepeda karena suhu yang nyaman dan cuaca yang stabil. Meskipun di musim dingin penyewaan sedikit menurun, masih ada pengguna yang menyewa sepeda, terutama bagi mereka yang membutuhkan transportasi sehari-hari meski cuaca tidak begitu mendukung."
      ]
    }
  ],
  "metadata": {
    "colab": {
      "provenance": []
    },
    "kernelspec": {
      "display_name": "dicoding-data-analyst-sub-10u6e7TX",
      "language": "python",
      "name": "python3"
    },
    "language_info": {
      "codemirror_mode": {
        "name": "ipython",
        "version": 3
      },
      "file_extension": ".py",
      "mimetype": "text/x-python",
      "name": "python",
      "nbconvert_exporter": "python",
      "pygments_lexer": "ipython3",
      "version": "3.12.4"
    },
    "orig_nbformat": 4
  },
  "nbformat": 4,
  "nbformat_minor": 0
}
